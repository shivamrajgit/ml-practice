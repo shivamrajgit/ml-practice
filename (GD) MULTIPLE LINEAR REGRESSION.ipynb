{
 "cells": [
  {
   "cell_type": "raw",
   "id": "8f920c27-83c9-43ae-b487-4fae10499e30",
   "metadata": {},
   "source": [
    "THIS IS AN IMPLEMENTATION OF BATCH GRADIENT DESCENT!!"
   ]
  },
  {
   "cell_type": "code",
   "execution_count": 154,
   "id": "d22a180b-ccc7-4bf0-9464-350ba043c1fb",
   "metadata": {},
   "outputs": [],
   "source": [
    "import numpy as np\n",
    "import pandas as pd"
   ]
  },
  {
   "cell_type": "code",
   "execution_count": 155,
   "id": "98b4fa0b-8254-4d4a-a7eb-92ac347820c4",
   "metadata": {},
   "outputs": [],
   "source": [
    "class GDLinearReg():\n",
    "    def __init__(self,epochs,lr):\n",
    "        self.lr = lr\n",
    "        self.epochs = epochs\n",
    "        self.intercept_ = None\n",
    "        self.coef_ = None\n",
    "\n",
    "    def fit(self,X_train,Y_train):\n",
    "        self.intercept_ = 0\n",
    "        self.coef_ = np.ones(X_train.shape[1])\n",
    "        \n",
    "        for i in range(self.epochs):\n",
    "            Y_pred = np.dot(X_train,self.coef_) + self.intercept_\n",
    "            det_intercept = -2 * np.mean(Y_train - Y_pred)\n",
    "            self.intercept_ = self.intercept_ - (self.lr * det_intercept)\n",
    "            det_coef = -2 * np.dot((Y_train-Y_pred),X_train)/X_train.shape[0]\n",
    "            self.coef_ = self.coef_ - (self.lr * det_coef)\n",
    "\n",
    "        print(\"COEF : \",self.coef_,\"\\nBIAS :\",self.intercept_)\n",
    "            \n",
    "    def predict(self,X_test):\n",
    "        return (np.dot(X_test,self.coef_) + self.intercept_)"
   ]
  },
  {
   "cell_type": "code",
   "execution_count": 156,
   "id": "9d0c9647-cd82-4ad9-882e-54c372e8333c",
   "metadata": {},
   "outputs": [],
   "source": [
    "from sklearn.model_selection import train_test_split\n",
    "from sklearn.datasets import load_diabetes"
   ]
  },
  {
   "cell_type": "code",
   "execution_count": 157,
   "id": "f8556e9e-342c-4226-8028-d7a143962907",
   "metadata": {},
   "outputs": [],
   "source": [
    "db = load_diabetes()\n",
    "X = db.data\n",
    "Y = db.target"
   ]
  },
  {
   "cell_type": "code",
   "execution_count": 158,
   "id": "7f8fd2e8-342a-4216-a7f9-ba8afc52c0f9",
   "metadata": {},
   "outputs": [],
   "source": [
    "X_train,X_test,Y_train,Y_test = train_test_split(X,Y,test_size = 0.2,random_state = 42)"
   ]
  },
  {
   "cell_type": "code",
   "execution_count": 159,
   "id": "bee64fb6-6577-4a56-87c8-d24e50c537fb",
   "metadata": {},
   "outputs": [
    {
     "name": "stdout",
     "output_type": "stream",
     "text": [
      "COEF :  [  46.5554433  -171.5177192   472.07545392  308.29838973  -52.12685585\n",
      " -100.2298852  -209.65684548  145.93225504  352.27116257  130.69229072] \n",
      "BIAS : 151.47094854658263\n"
     ]
    }
   ],
   "source": [
    "lr = GDLinearReg(epochs=1200,lr=0.3)\n",
    "lr.fit(X_train,Y_train)"
   ]
  },
  {
   "cell_type": "code",
   "execution_count": 160,
   "id": "5b27df6e-aa9c-45bf-b366-f152704ecf0e",
   "metadata": {},
   "outputs": [],
   "source": [
    "y_pred = lr.predict(X_test)"
   ]
  },
  {
   "cell_type": "code",
   "execution_count": 161,
   "id": "9a912453-5f3f-418a-98a0-aed47923c092",
   "metadata": {},
   "outputs": [],
   "source": [
    "from sklearn.metrics import r2_score"
   ]
  },
  {
   "cell_type": "code",
   "execution_count": 162,
   "id": "ccf4a4bf-548f-4c42-8a65-3be66391fd27",
   "metadata": {},
   "outputs": [
    {
     "data": {
      "text/plain": [
       "0.4591911231293473"
      ]
     },
     "execution_count": 162,
     "metadata": {},
     "output_type": "execute_result"
    }
   ],
   "source": [
    "r2_score(Y_test,y_pred)"
   ]
  },
  {
   "cell_type": "code",
   "execution_count": null,
   "id": "30c333bd-ba15-422a-9f58-33e433187e9c",
   "metadata": {},
   "outputs": [],
   "source": []
  }
 ],
 "metadata": {
  "kernelspec": {
   "display_name": "Python 3 (ipykernel)",
   "language": "python",
   "name": "python3"
  },
  "language_info": {
   "codemirror_mode": {
    "name": "ipython",
    "version": 3
   },
   "file_extension": ".py",
   "mimetype": "text/x-python",
   "name": "python",
   "nbconvert_exporter": "python",
   "pygments_lexer": "ipython3",
   "version": "3.12.4"
  }
 },
 "nbformat": 4,
 "nbformat_minor": 5
}
