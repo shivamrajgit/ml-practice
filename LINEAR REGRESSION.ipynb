{
 "cells": [
  {
   "cell_type": "code",
   "execution_count": 1,
   "id": "c9a0b0f0-2a3c-490a-88f0-987db8183ba9",
   "metadata": {},
   "outputs": [],
   "source": [
    "# importing numpy library\n",
    "import numpy as np\n",
    "import pandas as pd\n",
    "from sklearn.model_selection import train_test_split\n",
    "import matplotlib.pyplot as plt"
   ]
  },
  {
   "cell_type": "code",
   "execution_count": 2,
   "id": "0912f8e3-d7cd-49ac-a907-846bb29e6f5f",
   "metadata": {},
   "outputs": [],
   "source": [
    "class Linear_Regression():\n",
    "\n",
    "  # initiating the parameters (learning rate & no. of iterations)\n",
    "  def __init__(self, learning_rate, no_of_iterations):\n",
    "\n",
    "    self.learning_rate = learning_rate\n",
    "    self.no_of_iterations = no_of_iterations\n",
    "\n",
    "\n",
    "  def fit(self, X, Y):\n",
    "\n",
    "    # number of training examples & number of features\n",
    "\n",
    "    self.m, self.n = X.shape  # number of rows & columns\n",
    "\n",
    "    # initiating the weight and bias \n",
    "\n",
    "    self.w = np.zeros(self.n)\n",
    "    self.b = 0\n",
    "    self.X = X\n",
    "    self.Y = Y\n",
    "\n",
    "    # implementing Gradient Descent\n",
    "    \n",
    "    for i in range(self.no_of_iterations):\n",
    "      self.update_weights()\n",
    "\n",
    "\n",
    "  def update_weights(self):\n",
    "\n",
    "    Y_prediction = self.predict(self.X)\n",
    "\n",
    "    # calculate gradients\n",
    "\n",
    "    dw = - (2 * (self.X.T).dot(self.Y - Y_prediction)) / self.m\n",
    "    # first all the individual features are multiplied by difference in their Y values (actual , prediction)- \n",
    "    # then are summed feature wise and not equation wise to give feature wise weights for individual Xs in X say x1 , x2 etc.\n",
    "\n",
    "    db = - 2 * np.sum(self.Y - Y_prediction)/self.m\n",
    "\n",
    "    # upadating the weights\n",
    "    \n",
    "    self.w = self.w - self.learning_rate*dw\n",
    "    self.b = self.b - self.learning_rate*db\n",
    " \n",
    "\n",
    "  def predict(self, X):\n",
    "\n",
    "    return X.dot(self.w) + self.b\n",
    "\n"
   ]
  },
  {
   "cell_type": "code",
   "execution_count": 3,
   "id": "115c8e59-141e-42f3-82c8-fc9616903068",
   "metadata": {},
   "outputs": [],
   "source": [
    "# loading the data from csv file to pandas dataframe\n",
    "salary_data = pd.read_csv('salary_data.csv')"
   ]
  },
  {
   "cell_type": "code",
   "execution_count": 4,
   "id": "addbfd57-d93d-4b25-a49c-9de9b6eda296",
   "metadata": {},
   "outputs": [
    {
     "data": {
      "text/html": [
       "<div>\n",
       "<style scoped>\n",
       "    .dataframe tbody tr th:only-of-type {\n",
       "        vertical-align: middle;\n",
       "    }\n",
       "\n",
       "    .dataframe tbody tr th {\n",
       "        vertical-align: top;\n",
       "    }\n",
       "\n",
       "    .dataframe thead th {\n",
       "        text-align: right;\n",
       "    }\n",
       "</style>\n",
       "<table border=\"1\" class=\"dataframe\">\n",
       "  <thead>\n",
       "    <tr style=\"text-align: right;\">\n",
       "      <th></th>\n",
       "      <th>YearsExperience</th>\n",
       "      <th>Salary</th>\n",
       "    </tr>\n",
       "  </thead>\n",
       "  <tbody>\n",
       "    <tr>\n",
       "      <th>0</th>\n",
       "      <td>1.1</td>\n",
       "      <td>39343</td>\n",
       "    </tr>\n",
       "    <tr>\n",
       "      <th>1</th>\n",
       "      <td>1.3</td>\n",
       "      <td>46205</td>\n",
       "    </tr>\n",
       "    <tr>\n",
       "      <th>2</th>\n",
       "      <td>1.5</td>\n",
       "      <td>37731</td>\n",
       "    </tr>\n",
       "    <tr>\n",
       "      <th>3</th>\n",
       "      <td>2.0</td>\n",
       "      <td>43525</td>\n",
       "    </tr>\n",
       "    <tr>\n",
       "      <th>4</th>\n",
       "      <td>2.2</td>\n",
       "      <td>39891</td>\n",
       "    </tr>\n",
       "  </tbody>\n",
       "</table>\n",
       "</div>"
      ],
      "text/plain": [
       "   YearsExperience  Salary\n",
       "0              1.1   39343\n",
       "1              1.3   46205\n",
       "2              1.5   37731\n",
       "3              2.0   43525\n",
       "4              2.2   39891"
      ]
     },
     "execution_count": 4,
     "metadata": {},
     "output_type": "execute_result"
    }
   ],
   "source": [
    "salary_data.head()"
   ]
  },
  {
   "cell_type": "code",
   "execution_count": 5,
   "id": "18253808-8d4a-4392-b922-182e6454ef0f",
   "metadata": {},
   "outputs": [],
   "source": [
    "X = salary_data.iloc[:,:-1]\n",
    "Y = salary_data.iloc[:,1]"
   ]
  },
  {
   "cell_type": "code",
   "execution_count": 6,
   "id": "6be143f5-bb39-43e5-ba46-ae3293aee554",
   "metadata": {},
   "outputs": [],
   "source": [
    " X_train, X_test, Y_train, Y_test = train_test_split(X, Y, test_size = 0.33,random_state = 2 )"
   ]
  },
  {
   "cell_type": "code",
   "execution_count": 7,
   "id": "7952cd17-93d3-4e0a-ba00-6c386fe5bed3",
   "metadata": {},
   "outputs": [],
   "source": [
    "model = Linear_Regression(learning_rate=0.01, no_of_iterations=1000)"
   ]
  },
  {
   "cell_type": "code",
   "execution_count": 8,
   "id": "32706622-5e82-4686-985d-f2510de03bcf",
   "metadata": {},
   "outputs": [],
   "source": [
    "model.fit(X_train,Y_train)"
   ]
  },
  {
   "cell_type": "code",
   "execution_count": 9,
   "id": "3f2defe6-d003-4da0-83c9-e00ad828a978",
   "metadata": {},
   "outputs": [
    {
     "name": "stdout",
     "output_type": "stream",
     "text": [
      "weight =  9580.301196603597\n",
      "bias =  23226.38946603212\n"
     ]
    }
   ],
   "source": [
    "# print the parameters\n",
    "\n",
    "print('weight = ', model.w.iloc[0])\n",
    "print('bias = ', model.b)"
   ]
  },
  {
   "cell_type": "code",
   "execution_count": 10,
   "id": "aaba79d6-b5b6-4dff-8d0a-ce91ea78f688",
   "metadata": {},
   "outputs": [],
   "source": [
    "testPredict = model.predict(X_test)"
   ]
  },
  {
   "cell_type": "code",
   "execution_count": 11,
   "id": "9c7cbc75-ff84-46b1-b016-7a700356ae4b",
   "metadata": {},
   "outputs": [
    {
     "data": {
      "image/png": "[encoded data removed]",
      "text/plain": [
       "<Figure size 640x480 with 1 Axes>"
      ]
     },
     "metadata": {},
     "output_type": "display_data"
    }
   ],
   "source": [
    "plt.scatter(X_test,Y_test,color = 'green')\n",
    "plt.plot(X_test,testPredict,color = 'red')\n",
    "plt.xlabel(\"Experience\")\n",
    "plt.ylabel(\"Salary\")\n",
    "plt.show()"
   ]
  },
  {
   "cell_type": "code",
   "execution_count": 12,
   "id": "20215900-1db2-4a79-8cef-792f2d9a8938",
   "metadata": {},
   "outputs": [],
   "source": [
    "from sklearn.metrics import mean_squared_error as mse"
   ]
  },
  {
   "cell_type": "code",
   "execution_count": 13,
   "id": "417f8750-8ffa-4a01-909c-c12cdfc99c3c",
   "metadata": {},
   "outputs": [
    {
     "data": {
      "text/plain": [
       "np.float64(62008180.66435532)"
      ]
     },
     "execution_count": 13,
     "metadata": {},
     "output_type": "execute_result"
    }
   ],
   "source": [
    "mse(Y_test,testPredict)"
   ]
  },
  {
   "cell_type": "code",
   "execution_count": 14,
   "id": "6449e487-5157-47df-97b3-b8488e7c9ba0",
   "metadata": {},
   "outputs": [
    {
     "data": {
      "text/plain": [
       "np.float64(62008180.66435532)"
      ]
     },
     "execution_count": 14,
     "metadata": {},
     "output_type": "execute_result"
    }
   ],
   "source": [
    "#Else We can do ->\n",
    "np.square(Y_test-testPredict).sum()/Y_test.size"
   ]
  },
  {
   "cell_type": "code",
   "execution_count": null,
   "id": "2fe1627c-85c9-492f-a088-7a0072e4cdd3",
   "metadata": {},
   "outputs": [],
   "source": []
  }
 ],
 "metadata": {
  "kernelspec": {
   "display_name": "Python 3 (ipykernel)",
   "language": "python",
   "name": "python3"
  },
  "language_info": {
   "codemirror_mode": {
    "name": "ipython",
    "version": 3
   },
   "file_extension": ".py",
   "mimetype": "text/x-python",
   "name": "python",
   "nbconvert_exporter": "python",
   "pygments_lexer": "ipython3",
   "version": "3.12.4"
  }
 },
 "nbformat": 4,
 "nbformat_minor": 5
}
